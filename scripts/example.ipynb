{
 "cells": [
  {
   "cell_type": "code",
   "execution_count": 7,
   "metadata": {},
   "outputs": [
    {
     "name": "stdout",
     "output_type": "stream",
     "text": [
      "The autoreload extension is already loaded. To reload it, use:\n",
      "  %reload_ext autoreload\n"
     ]
    }
   ],
   "source": [
    "%load_ext autoreload\n",
    "%autoreload 2\n",
    "import sys,os\n",
    "import numpy as np\n",
    "import pandas as pd\n",
    "_path = r'C:\\Users\\jlp10\\Desktop\\zhuying\\python'\n",
    "sys.path.insert(0,_path)\n",
    "import msidat as msd\n"
   ]
  },
  {
   "cell_type": "markdown",
   "metadata": {},
   "source": [
    "# Calculate Molar Mass"
   ]
  },
  {
   "cell_type": "code",
   "execution_count": 8,
   "metadata": {},
   "outputs": [
    {
     "name": "stdout",
     "output_type": "stream",
     "text": [
      "\u001b[32m2025-03-15 15:31:16.051\u001b[0m | \u001b[1mINFO    \u001b[0m | \u001b[36mmsidat.tools.cal_mol_mass\u001b[0m:\u001b[36mMolMass\u001b[0m:\u001b[36m25\u001b[0m - \u001b[1mcompound list: ['CH2']\u001b[0m\n",
      "\u001b[32m2025-03-15 15:31:16.052\u001b[0m | \u001b[1mINFO    \u001b[0m | \u001b[36mmsidat.tools.cal_mol_mass\u001b[0m:\u001b[36mMolMass\u001b[0m:\u001b[36m30\u001b[0m - \u001b[1melement list: [('C', '', ''), ('H', '2', '')]\u001b[0m\n"
     ]
    },
    {
     "data": {
      "text/plain": [
       "14.01565"
      ]
     },
     "execution_count": 8,
     "metadata": {},
     "output_type": "execute_result"
    }
   ],
   "source": [
    "from msidat.tools.cal_mol_mass import MolMass\n",
    "MolMass('CH2')"
   ]
  },
  {
   "cell_type": "markdown",
   "metadata": {},
   "source": [
    "# m/z match"
   ]
  },
  {
   "cell_type": "code",
   "execution_count": 9,
   "metadata": {},
   "outputs": [],
   "source": [
    "file_source = r'C:\\Users\\jlp10\\Desktop\\zhuying\\python\\msidat\\userdata\\数据提取-原始.xlsx'\n",
    "file_target = r'C:\\Users\\jlp10\\Desktop\\zhuying\\python\\msidat\\userdata\\修正-Table S4 内标校正离子-0226.xlsx'\n",
    "\n",
    "df_source = pd.read_excel(file_source)\n",
    "df_target = pd.read_excel(file_target)"
   ]
  },
  {
   "cell_type": "code",
   "execution_count": 31,
   "metadata": {},
   "outputs": [],
   "source": [
    "from msidat.match.compound_match import CompoundMatch\n",
    "com_match = CompoundMatch()"
   ]
  },
  {
   "cell_type": "code",
   "execution_count": 35,
   "metadata": {},
   "outputs": [
    {
     "name": "stdout",
     "output_type": "stream",
     "text": [
      "\u001b[32m2025-03-15 15:51:09.630\u001b[0m | \u001b[1mINFO    \u001b[0m | \u001b[36mmsidat.match.compound_match\u001b[0m:\u001b[36mmatch\u001b[0m:\u001b[36m23\u001b[0m - \u001b[1msource data shape: (8157, 2)\u001b[0m\n",
      "\u001b[32m2025-03-15 15:51:09.631\u001b[0m | \u001b[1mINFO    \u001b[0m | \u001b[36mmsidat.match.compound_match\u001b[0m:\u001b[36mmatch\u001b[0m:\u001b[36m24\u001b[0m - \u001b[1mtarget data shape: (23, 4)\u001b[0m\n",
      "\u001b[32m2025-03-15 15:51:09.632\u001b[0m | \u001b[1mINFO    \u001b[0m | \u001b[36mmsidat.match.compound_match\u001b[0m:\u001b[36mmatch\u001b[0m:\u001b[36m25\u001b[0m - \u001b[1mintensity_threshold: 200\u001b[0m\n",
      "\u001b[32m2025-03-15 15:51:09.632\u001b[0m | \u001b[1mINFO    \u001b[0m | \u001b[36mmsidat.match.compound_match\u001b[0m:\u001b[36mmatch\u001b[0m:\u001b[36m26\u001b[0m - \u001b[1mmz tolerance: 100.0 ppm\u001b[0m\n",
      "\u001b[32m2025-03-15 15:51:09.655\u001b[0m | \u001b[1mINFO    \u001b[0m | \u001b[36mmsidat.match.compound_match\u001b[0m:\u001b[36moutput_process\u001b[0m:\u001b[36m62\u001b[0m - \u001b[1mOutput successfully saved to C:\\Users\\jlp10\\Desktop\\zhuying\\python\\msidat\\userdata\\zhuying.xlsx\u001b[0m\n"
     ]
    }
   ],
   "source": [
    "com_match.df_source = df_source\n",
    "com_match.df_target = df_target\n",
    "com_match.mz_tolerance = 100e-6\n",
    "com_match.intensity_threshold = 200\n",
    "com_match.output_file = r'C:\\Users\\jlp10\\Desktop\\zhuying\\python\\msidat\\userdata\\zhuying.xlsx'\n",
    "com_match.match()\n",
    "com_match.output_process()\n"
   ]
  }
 ],
 "metadata": {
  "kernelspec": {
   "display_name": "base",
   "language": "python",
   "name": "python3"
  },
  "language_info": {
   "codemirror_mode": {
    "name": "ipython",
    "version": 3
   },
   "file_extension": ".py",
   "mimetype": "text/x-python",
   "name": "python",
   "nbconvert_exporter": "python",
   "pygments_lexer": "ipython3",
   "version": "3.10.9"
  }
 },
 "nbformat": 4,
 "nbformat_minor": 2
}
